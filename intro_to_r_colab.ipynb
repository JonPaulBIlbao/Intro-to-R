{
  "cells": [
    {
      "cell_type": "markdown",
      "metadata": {
        "id": "view-in-github",
        "colab_type": "text"
      },
      "source": [
        "<a href=\"https://colab.research.google.com/github/JonPaulBIlbao/Intro-to-R/blob/master/intro_to_r_colab.ipynb\" target=\"_parent\"><img src=\"https://colab.research.google.com/assets/colab-badge.svg\" alt=\"Open In Colab\"/></a>"
      ]
    },
    {
      "cell_type": "markdown",
      "metadata": {
        "id": "QRoLuoQ5oBVm"
      },
      "source": [
        "# Introduction to Basic R Concepts / Machine Learning in Finance 2024-25\n",
        "This notebook introduces fundamental R concepts, including arithmetic operations, variables, data types, vectors, data frames, and basic subsetting."
      ]
    },
    {
      "cell_type": "markdown",
      "metadata": {
        "id": "6JXUh1yhoBVn"
      },
      "source": [
        "## Simple Arithmetic Operations"
      ]
    },
    {
      "cell_type": "code",
      "execution_count": 1,
      "metadata": {
        "colab": {
          "base_uri": "https://localhost:8080/",
          "height": 86
        },
        "id": "9sioXMRHoBVo",
        "outputId": "c9660747-b896-4c11-91df-2b387cac3646"
      },
      "outputs": [
        {
          "output_type": "display_data",
          "data": {
            "text/html": [
              "8"
            ],
            "text/markdown": "8",
            "text/latex": "8",
            "text/plain": [
              "[1] 8"
            ]
          },
          "metadata": {}
        },
        {
          "output_type": "display_data",
          "data": {
            "text/html": [
              "6"
            ],
            "text/markdown": "6",
            "text/latex": "6",
            "text/plain": [
              "[1] 6"
            ]
          },
          "metadata": {}
        },
        {
          "output_type": "display_data",
          "data": {
            "text/html": [
              "12"
            ],
            "text/markdown": "12",
            "text/latex": "12",
            "text/plain": [
              "[1] 12"
            ]
          },
          "metadata": {}
        },
        {
          "output_type": "display_data",
          "data": {
            "text/html": [
              "5"
            ],
            "text/markdown": "5",
            "text/latex": "5",
            "text/plain": [
              "[1] 5"
            ]
          },
          "metadata": {}
        }
      ],
      "source": [
        "# Addition\n",
        "3 + 5\n",
        "\n",
        "# Subtraction\n",
        "10 - 4\n",
        "\n",
        "# Multiplication\n",
        "2 * 6\n",
        "\n",
        "# Division\n",
        "15 / 3"
      ]
    },
    {
      "cell_type": "markdown",
      "metadata": {
        "id": "a3G189sloBVo"
      },
      "source": [
        "## Variables and Assignment"
      ]
    },
    {
      "cell_type": "code",
      "execution_count": 2,
      "metadata": {
        "colab": {
          "base_uri": "https://localhost:8080/",
          "height": 34
        },
        "id": "QK39Uk1loBVo",
        "outputId": "794fd611-ed90-44ac-cf6a-e6814cfd07f5"
      },
      "outputs": [
        {
          "output_type": "display_data",
          "data": {
            "text/html": [
              "15"
            ],
            "text/markdown": "15",
            "text/latex": "15",
            "text/plain": [
              "[1] 15"
            ]
          },
          "metadata": {}
        }
      ],
      "source": [
        "# Assign values to variables\n",
        "x <- 10  # Assigning value 10 to x\n",
        "y <- 5   # Assigning value 5 to y\n",
        "\n",
        "# Perform operations\n",
        "x + y"
      ]
    },
    {
      "cell_type": "markdown",
      "metadata": {
        "id": "VKNdmGXWoBVo"
      },
      "source": [
        "## Data Types in R"
      ]
    },
    {
      "cell_type": "code",
      "execution_count": 3,
      "metadata": {
        "id": "geEQoMFIoBVo"
      },
      "outputs": [],
      "source": [
        "# Numeric data type\n",
        "a <- 7.5\n",
        "\n",
        "# Character data type\n",
        "b <- \"hello\"\n",
        "\n",
        "# Logical data type\n",
        "c <- TRUE"
      ]
    },
    {
      "cell_type": "markdown",
      "metadata": {
        "id": "Wl7-DtDLoBVp"
      },
      "source": [
        "## Sequence in R"
      ]
    },
    {
      "cell_type": "code",
      "execution_count": 4,
      "metadata": {
        "colab": {
          "base_uri": "https://localhost:8080/",
          "height": 34
        },
        "id": "fBXxZb3koBVp",
        "outputId": "b3649071-7427-460e-b7ff-82c459871b84"
      },
      "outputs": [
        {
          "output_type": "display_data",
          "data": {
            "text/html": [
              "<style>\n",
              ".list-inline {list-style: none; margin:0; padding: 0}\n",
              ".list-inline>li {display: inline-block}\n",
              ".list-inline>li:not(:last-child)::after {content: \"\\00b7\"; padding: 0 .5ex}\n",
              "</style>\n",
              "<ol class=list-inline><li>1</li><li>2</li><li>3</li><li>4</li><li>5</li><li>6</li><li>7</li><li>8</li><li>9</li><li>10</li></ol>\n"
            ],
            "text/markdown": "1. 1\n2. 2\n3. 3\n4. 4\n5. 5\n6. 6\n7. 7\n8. 8\n9. 9\n10. 10\n\n\n",
            "text/latex": "\\begin{enumerate*}\n\\item 1\n\\item 2\n\\item 3\n\\item 4\n\\item 5\n\\item 6\n\\item 7\n\\item 8\n\\item 9\n\\item 10\n\\end{enumerate*}\n",
            "text/plain": [
              " [1]  1  2  3  4  5  6  7  8  9 10"
            ]
          },
          "metadata": {}
        }
      ],
      "source": [
        "# Generate a sequence from 1 to 10\n",
        "1:10"
      ]
    },
    {
      "cell_type": "markdown",
      "metadata": {
        "id": "Ri9OIxJYoBVp"
      },
      "source": [
        "## Creating and Manipulating Vectors"
      ]
    },
    {
      "cell_type": "code",
      "execution_count": 5,
      "metadata": {
        "colab": {
          "base_uri": "https://localhost:8080/",
          "height": 86
        },
        "id": "fMQmF9jpoBVp",
        "outputId": "80afbc1e-8897-4e1f-f8da-f8c5d8ef6bcd"
      },
      "outputs": [
        {
          "output_type": "display_data",
          "data": {
            "text/html": [
              "<style>\n",
              ".list-inline {list-style: none; margin:0; padding: 0}\n",
              ".list-inline>li {display: inline-block}\n",
              ".list-inline>li:not(:last-child)::after {content: \"\\00b7\"; padding: 0 .5ex}\n",
              "</style>\n",
              "<ol class=list-inline><li>25</li><li>30</li><li>35</li><li>40</li></ol>\n"
            ],
            "text/markdown": "1. 25\n2. 30\n3. 35\n4. 40\n\n\n",
            "text/latex": "\\begin{enumerate*}\n\\item 25\n\\item 30\n\\item 35\n\\item 40\n\\end{enumerate*}\n",
            "text/plain": [
              "[1] 25 30 35 40"
            ]
          },
          "metadata": {}
        },
        {
          "output_type": "display_data",
          "data": {
            "text/html": [
              "<style>\n",
              ".list-inline {list-style: none; margin:0; padding: 0}\n",
              ".list-inline>li {display: inline-block}\n",
              ".list-inline>li:not(:last-child)::after {content: \"\\00b7\"; padding: 0 .5ex}\n",
              "</style>\n",
              "<ol class=list-inline><li>'John'</li><li>'Mary'</li><li>'David'</li><li>'Emily'</li></ol>\n"
            ],
            "text/markdown": "1. 'John'\n2. 'Mary'\n3. 'David'\n4. 'Emily'\n\n\n",
            "text/latex": "\\begin{enumerate*}\n\\item 'John'\n\\item 'Mary'\n\\item 'David'\n\\item 'Emily'\n\\end{enumerate*}\n",
            "text/plain": [
              "[1] \"John\"  \"Mary\"  \"David\" \"Emily\""
            ]
          },
          "metadata": {}
        },
        {
          "output_type": "display_data",
          "data": {
            "text/html": [
              "<style>\n",
              ".list-inline {list-style: none; margin:0; padding: 0}\n",
              ".list-inline>li {display: inline-block}\n",
              ".list-inline>li:not(:last-child)::after {content: \"\\00b7\"; padding: 0 .5ex}\n",
              "</style>\n",
              "<ol class=list-inline><li>'Male'</li><li>'Female'</li><li>'Male'</li><li>'Female'</li></ol>\n"
            ],
            "text/markdown": "1. 'Male'\n2. 'Female'\n3. 'Male'\n4. 'Female'\n\n\n",
            "text/latex": "\\begin{enumerate*}\n\\item 'Male'\n\\item 'Female'\n\\item 'Male'\n\\item 'Female'\n\\end{enumerate*}\n",
            "text/plain": [
              "[1] \"Male\"   \"Female\" \"Male\"   \"Female\""
            ]
          },
          "metadata": {}
        },
        {
          "output_type": "display_data",
          "data": {
            "text/html": [
              "<style>\n",
              ".list-inline {list-style: none; margin:0; padding: 0}\n",
              ".list-inline>li {display: inline-block}\n",
              ".list-inline>li:not(:last-child)::after {content: \"\\00b7\"; padding: 0 .5ex}\n",
              "</style>\n",
              "<ol class=list-inline><li>50000</li><li>60000</li><li>70000</li><li>80000</li></ol>\n"
            ],
            "text/markdown": "1. 50000\n2. 60000\n3. 70000\n4. 80000\n\n\n",
            "text/latex": "\\begin{enumerate*}\n\\item 50000\n\\item 60000\n\\item 70000\n\\item 80000\n\\end{enumerate*}\n",
            "text/plain": [
              "[1] 50000 60000 70000 80000"
            ]
          },
          "metadata": {}
        }
      ],
      "source": [
        "# Create vectors\n",
        "ages <- c(25, 30, 35, 40)\n",
        "names <- c(\"John\", \"Mary\", \"David\", \"Emily\")\n",
        "gender <- c(\"Male\", \"Female\", \"Male\", \"Female\")\n",
        "salary <- c(50000, 60000, 70000, 80000)\n",
        "\n",
        "# Print vectors\n",
        "ages\n",
        "names\n",
        "gender\n",
        "salary"
      ]
    },
    {
      "cell_type": "markdown",
      "metadata": {
        "id": "bGxt_oZGoBVp"
      },
      "source": [
        "## Summary Statistics"
      ]
    },
    {
      "cell_type": "code",
      "execution_count": 6,
      "metadata": {
        "colab": {
          "base_uri": "https://localhost:8080/",
          "height": 160
        },
        "id": "J3PMzwTqoBVp",
        "outputId": "acfd0cef-9c9c-434a-b653-c127a2d382e5"
      },
      "outputs": [
        {
          "output_type": "display_data",
          "data": {
            "text/plain": [
              "   Min. 1st Qu.  Median    Mean 3rd Qu.    Max. \n",
              "  25.00   28.75   32.50   32.50   36.25   40.00 "
            ]
          },
          "metadata": {}
        },
        {
          "output_type": "display_data",
          "data": {
            "text/plain": [
              "   Length     Class      Mode \n",
              "        4 character character "
            ]
          },
          "metadata": {}
        },
        {
          "output_type": "display_data",
          "data": {
            "text/plain": [
              "   Length     Class      Mode \n",
              "        4 character character "
            ]
          },
          "metadata": {}
        },
        {
          "output_type": "display_data",
          "data": {
            "text/plain": [
              "   Min. 1st Qu.  Median    Mean 3rd Qu.    Max. \n",
              "  50000   57500   65000   65000   72500   80000 "
            ]
          },
          "metadata": {}
        }
      ],
      "source": [
        "# Summary statistics\n",
        "summary(ages)\n",
        "summary(names)  # Not meaningful for character data\n",
        "summary(gender) # Not meaningful for character data\n",
        "summary(salary)"
      ]
    },
    {
      "cell_type": "markdown",
      "metadata": {
        "id": "kuP05v4xoBVp"
      },
      "source": [
        "## Converting Gender to a Factor"
      ]
    },
    {
      "cell_type": "code",
      "execution_count": 7,
      "metadata": {
        "colab": {
          "base_uri": "https://localhost:8080/",
          "height": 69
        },
        "id": "ZqYeizpCoBVp",
        "outputId": "a2385211-442c-4072-b07c-2b7810f3dfb6"
      },
      "outputs": [
        {
          "output_type": "display_data",
          "data": {
            "text/html": [
              "<style>\n",
              ".list-inline {list-style: none; margin:0; padding: 0}\n",
              ".list-inline>li {display: inline-block}\n",
              ".list-inline>li:not(:last-child)::after {content: \"\\00b7\"; padding: 0 .5ex}\n",
              "</style>\n",
              "<ol class=list-inline><li>Male</li><li>Female</li><li>Male</li><li>Female</li></ol>\n",
              "\n",
              "<details>\n",
              "\t<summary style=display:list-item;cursor:pointer>\n",
              "\t\t<strong>Levels</strong>:\n",
              "\t</summary>\n",
              "\t<style>\n",
              "\t.list-inline {list-style: none; margin:0; padding: 0}\n",
              "\t.list-inline>li {display: inline-block}\n",
              "\t.list-inline>li:not(:last-child)::after {content: \"\\00b7\"; padding: 0 .5ex}\n",
              "\t</style>\n",
              "\t<ol class=list-inline><li>'Female'</li><li>'Male'</li></ol>\n",
              "</details>"
            ],
            "text/markdown": "1. Male\n2. Female\n3. Male\n4. Female\n\n\n\n**Levels**: 1. 'Female'\n2. 'Male'\n\n\n",
            "text/latex": "\\begin{enumerate*}\n\\item Male\n\\item Female\n\\item Male\n\\item Female\n\\end{enumerate*}\n\n\\emph{Levels}: \\begin{enumerate*}\n\\item 'Female'\n\\item 'Male'\n\\end{enumerate*}\n",
            "text/plain": [
              "[1] Male   Female Male   Female\n",
              "Levels: Female Male"
            ]
          },
          "metadata": {}
        },
        {
          "output_type": "display_data",
          "data": {
            "text/html": [
              "<style>\n",
              ".dl-inline {width: auto; margin:0; padding: 0}\n",
              ".dl-inline>dt, .dl-inline>dd {float: none; width: auto; display: inline-block}\n",
              ".dl-inline>dt::after {content: \":\\0020\"; padding-right: .5ex}\n",
              ".dl-inline>dt:not(:first-of-type) {padding-left: .5ex}\n",
              "</style><dl class=dl-inline><dt>Female</dt><dd>2</dd><dt>Male</dt><dd>2</dd></dl>\n"
            ],
            "text/markdown": "Female\n:   2Male\n:   2\n\n",
            "text/latex": "\\begin{description*}\n\\item[Female] 2\n\\item[Male] 2\n\\end{description*}\n",
            "text/plain": [
              "Female   Male \n",
              "     2      2 "
            ]
          },
          "metadata": {}
        }
      ],
      "source": [
        "# Convert gender to a factor\n",
        "gender_factor <- factor(gender)\n",
        "\n",
        "# Print and summarize factor\n",
        "gender_factor\n",
        "summary(gender_factor)"
      ]
    },
    {
      "cell_type": "markdown",
      "metadata": {
        "id": "gL5yF1OGoBVp"
      },
      "source": [
        "## Subsetting Vectors"
      ]
    },
    {
      "cell_type": "code",
      "execution_count": 8,
      "metadata": {
        "colab": {
          "base_uri": "https://localhost:8080/",
          "height": 86
        },
        "id": "00YMDWb8oBVp",
        "outputId": "8dc3b212-f2de-4547-a677-f8f3a15e518e"
      },
      "outputs": [
        {
          "output_type": "display_data",
          "data": {
            "text/html": [
              "'Male'"
            ],
            "text/markdown": "'Male'",
            "text/latex": "'Male'",
            "text/plain": [
              "[1] \"Male\""
            ]
          },
          "metadata": {}
        },
        {
          "output_type": "display_data",
          "data": {
            "text/html": [
              "'Male'"
            ],
            "text/markdown": "'Male'",
            "text/latex": "'Male'",
            "text/plain": [
              "[1] \"Male\""
            ]
          },
          "metadata": {}
        },
        {
          "output_type": "display_data",
          "data": {
            "text/html": [
              "<style>\n",
              ".list-inline {list-style: none; margin:0; padding: 0}\n",
              ".list-inline>li {display: inline-block}\n",
              ".list-inline>li:not(:last-child)::after {content: \"\\00b7\"; padding: 0 .5ex}\n",
              "</style>\n",
              "<ol class=list-inline><li>'Male'</li><li>'Female'</li></ol>\n"
            ],
            "text/markdown": "1. 'Male'\n2. 'Female'\n\n\n",
            "text/latex": "\\begin{enumerate*}\n\\item 'Male'\n\\item 'Female'\n\\end{enumerate*}\n",
            "text/plain": [
              "[1] \"Male\"   \"Female\""
            ]
          },
          "metadata": {}
        },
        {
          "output_type": "display_data",
          "data": {
            "text/html": [
              "<style>\n",
              ".list-inline {list-style: none; margin:0; padding: 0}\n",
              ".list-inline>li {display: inline-block}\n",
              ".list-inline>li:not(:last-child)::after {content: \"\\00b7\"; padding: 0 .5ex}\n",
              "</style>\n",
              "<ol class=list-inline><li>'Male'</li><li>'Male'</li></ol>\n"
            ],
            "text/markdown": "1. 'Male'\n2. 'Male'\n\n\n",
            "text/latex": "\\begin{enumerate*}\n\\item 'Male'\n\\item 'Male'\n\\end{enumerate*}\n",
            "text/plain": [
              "[1] \"Male\" \"Male\""
            ]
          },
          "metadata": {}
        }
      ],
      "source": [
        "# Subsetting individual elements\n",
        "gender[1]  # First element\n",
        "gender[3]  # Third element\n",
        "\n",
        "# Subsetting multiple elements\n",
        "gender[1:2]  # First two elements\n",
        "gender[c(1, 3)]  # First and third elements"
      ]
    },
    {
      "cell_type": "markdown",
      "metadata": {
        "id": "9ZXvflYkoBVp"
      },
      "source": [
        "## Logical Conditions in R"
      ]
    },
    {
      "cell_type": "code",
      "execution_count": 9,
      "metadata": {
        "colab": {
          "base_uri": "https://localhost:8080/",
          "height": 86
        },
        "id": "LFt1UBQToBVp",
        "outputId": "9ecd7eb3-0436-4a32-967f-82dc411dcb9a"
      },
      "outputs": [
        {
          "output_type": "display_data",
          "data": {
            "text/html": [
              "<style>\n",
              ".list-inline {list-style: none; margin:0; padding: 0}\n",
              ".list-inline>li {display: inline-block}\n",
              ".list-inline>li:not(:last-child)::after {content: \"\\00b7\"; padding: 0 .5ex}\n",
              "</style>\n",
              "<ol class=list-inline><li>TRUE</li><li>FALSE</li><li>TRUE</li><li>FALSE</li></ol>\n"
            ],
            "text/markdown": "1. TRUE\n2. FALSE\n3. TRUE\n4. FALSE\n\n\n",
            "text/latex": "\\begin{enumerate*}\n\\item TRUE\n\\item FALSE\n\\item TRUE\n\\item FALSE\n\\end{enumerate*}\n",
            "text/plain": [
              "[1]  TRUE FALSE  TRUE FALSE"
            ]
          },
          "metadata": {}
        },
        {
          "output_type": "display_data",
          "data": {
            "text/html": [
              "<style>\n",
              ".list-inline {list-style: none; margin:0; padding: 0}\n",
              ".list-inline>li {display: inline-block}\n",
              ".list-inline>li:not(:last-child)::after {content: \"\\00b7\"; padding: 0 .5ex}\n",
              "</style>\n",
              "<ol class=list-inline><li>FALSE</li><li>TRUE</li><li>FALSE</li><li>TRUE</li></ol>\n"
            ],
            "text/markdown": "1. FALSE\n2. TRUE\n3. FALSE\n4. TRUE\n\n\n",
            "text/latex": "\\begin{enumerate*}\n\\item FALSE\n\\item TRUE\n\\item FALSE\n\\item TRUE\n\\end{enumerate*}\n",
            "text/plain": [
              "[1] FALSE  TRUE FALSE  TRUE"
            ]
          },
          "metadata": {}
        },
        {
          "output_type": "display_data",
          "data": {
            "text/html": [
              "<style>\n",
              ".list-inline {list-style: none; margin:0; padding: 0}\n",
              ".list-inline>li {display: inline-block}\n",
              ".list-inline>li:not(:last-child)::after {content: \"\\00b7\"; padding: 0 .5ex}\n",
              "</style>\n",
              "<ol class=list-inline><li>'Male'</li><li>'Male'</li></ol>\n"
            ],
            "text/markdown": "1. 'Male'\n2. 'Male'\n\n\n",
            "text/latex": "\\begin{enumerate*}\n\\item 'Male'\n\\item 'Male'\n\\end{enumerate*}\n",
            "text/plain": [
              "[1] \"Male\" \"Male\""
            ]
          },
          "metadata": {}
        },
        {
          "output_type": "display_data",
          "data": {
            "text/html": [
              "<style>\n",
              ".list-inline {list-style: none; margin:0; padding: 0}\n",
              ".list-inline>li {display: inline-block}\n",
              ".list-inline>li:not(:last-child)::after {content: \"\\00b7\"; padding: 0 .5ex}\n",
              "</style>\n",
              "<ol class=list-inline><li>'Male'</li><li>'Male'</li></ol>\n"
            ],
            "text/markdown": "1. 'Male'\n2. 'Male'\n\n\n",
            "text/latex": "\\begin{enumerate*}\n\\item 'Male'\n\\item 'Male'\n\\end{enumerate*}\n",
            "text/plain": [
              "[1] \"Male\" \"Male\""
            ]
          },
          "metadata": {}
        }
      ],
      "source": [
        "# Logical conditions\n",
        "gender == \"Male\"\n",
        "gender != \"Male\"\n",
        "\n",
        "# Subsetting using conditions\n",
        "gender[gender == \"Male\"]\n",
        "gender[gender != \"Female\"]"
      ]
    },
    {
      "cell_type": "markdown",
      "metadata": {
        "id": "TZXVrZTjoBVp"
      },
      "source": [
        "## Creating and Exploring Data Frames"
      ]
    },
    {
      "cell_type": "code",
      "execution_count": 10,
      "metadata": {
        "colab": {
          "base_uri": "https://localhost:8080/",
          "height": 349
        },
        "id": "whjQa4dYoBVq",
        "outputId": "9fa54659-f2e9-481f-da66-517eff5635c0"
      },
      "outputs": [
        {
          "output_type": "display_data",
          "data": {
            "text/html": [
              "<table class=\"dataframe\">\n",
              "<caption>A data.frame: 4 × 4</caption>\n",
              "<thead>\n",
              "\t<tr><th scope=col>ages</th><th scope=col>names</th><th scope=col>gender</th><th scope=col>salary</th></tr>\n",
              "\t<tr><th scope=col>&lt;dbl&gt;</th><th scope=col>&lt;chr&gt;</th><th scope=col>&lt;chr&gt;</th><th scope=col>&lt;dbl&gt;</th></tr>\n",
              "</thead>\n",
              "<tbody>\n",
              "\t<tr><td>25</td><td>John </td><td>Male  </td><td>50000</td></tr>\n",
              "\t<tr><td>30</td><td>Mary </td><td>Female</td><td>60000</td></tr>\n",
              "\t<tr><td>35</td><td>David</td><td>Male  </td><td>70000</td></tr>\n",
              "\t<tr><td>40</td><td>Emily</td><td>Female</td><td>80000</td></tr>\n",
              "</tbody>\n",
              "</table>\n"
            ],
            "text/markdown": "\nA data.frame: 4 × 4\n\n| ages &lt;dbl&gt; | names &lt;chr&gt; | gender &lt;chr&gt; | salary &lt;dbl&gt; |\n|---|---|---|---|\n| 25 | John  | Male   | 50000 |\n| 30 | Mary  | Female | 60000 |\n| 35 | David | Male   | 70000 |\n| 40 | Emily | Female | 80000 |\n\n",
            "text/latex": "A data.frame: 4 × 4\n\\begin{tabular}{llll}\n ages & names & gender & salary\\\\\n <dbl> & <chr> & <chr> & <dbl>\\\\\n\\hline\n\t 25 & John  & Male   & 50000\\\\\n\t 30 & Mary  & Female & 60000\\\\\n\t 35 & David & Male   & 70000\\\\\n\t 40 & Emily & Female & 80000\\\\\n\\end{tabular}\n",
            "text/plain": [
              "  ages names gender salary\n",
              "1 25   John  Male   50000 \n",
              "2 30   Mary  Female 60000 \n",
              "3 35   David Male   70000 \n",
              "4 40   Emily Female 80000 "
            ]
          },
          "metadata": {}
        },
        {
          "output_type": "display_data",
          "data": {
            "text/plain": [
              "      ages          names              gender              salary     \n",
              " Min.   :25.00   Length:4           Length:4           Min.   :50000  \n",
              " 1st Qu.:28.75   Class :character   Class :character   1st Qu.:57500  \n",
              " Median :32.50   Mode  :character   Mode  :character   Median :65000  \n",
              " Mean   :32.50                                         Mean   :65000  \n",
              " 3rd Qu.:36.25                                         3rd Qu.:72500  \n",
              " Max.   :40.00                                         Max.   :80000  "
            ]
          },
          "metadata": {}
        }
      ],
      "source": [
        "# Create a dataframe\n",
        "data <- data.frame(ages, names, gender, salary)\n",
        "\n",
        "# Print dataframe\n",
        "data\n",
        "\n",
        "# Summary of dataframe\n",
        "summary(data)"
      ]
    },
    {
      "cell_type": "markdown",
      "metadata": {
        "id": "L8CauJXloBVq"
      },
      "source": [
        "## Accessing Columns in a Data Frame"
      ]
    },
    {
      "cell_type": "code",
      "execution_count": 11,
      "metadata": {
        "colab": {
          "base_uri": "https://localhost:8080/",
          "height": 86
        },
        "id": "gY4AHIUToBVq",
        "outputId": "1e89ff26-a000-4b9b-aea1-6d5f995fa0dd"
      },
      "outputs": [
        {
          "output_type": "display_data",
          "data": {
            "text/html": [
              "<style>\n",
              ".list-inline {list-style: none; margin:0; padding: 0}\n",
              ".list-inline>li {display: inline-block}\n",
              ".list-inline>li:not(:last-child)::after {content: \"\\00b7\"; padding: 0 .5ex}\n",
              "</style>\n",
              "<ol class=list-inline><li>25</li><li>30</li><li>35</li><li>40</li></ol>\n"
            ],
            "text/markdown": "1. 25\n2. 30\n3. 35\n4. 40\n\n\n",
            "text/latex": "\\begin{enumerate*}\n\\item 25\n\\item 30\n\\item 35\n\\item 40\n\\end{enumerate*}\n",
            "text/plain": [
              "[1] 25 30 35 40"
            ]
          },
          "metadata": {}
        },
        {
          "output_type": "display_data",
          "data": {
            "text/html": [
              "<style>\n",
              ".list-inline {list-style: none; margin:0; padding: 0}\n",
              ".list-inline>li {display: inline-block}\n",
              ".list-inline>li:not(:last-child)::after {content: \"\\00b7\"; padding: 0 .5ex}\n",
              "</style>\n",
              "<ol class=list-inline><li>'John'</li><li>'Mary'</li><li>'David'</li><li>'Emily'</li></ol>\n"
            ],
            "text/markdown": "1. 'John'\n2. 'Mary'\n3. 'David'\n4. 'Emily'\n\n\n",
            "text/latex": "\\begin{enumerate*}\n\\item 'John'\n\\item 'Mary'\n\\item 'David'\n\\item 'Emily'\n\\end{enumerate*}\n",
            "text/plain": [
              "[1] \"John\"  \"Mary\"  \"David\" \"Emily\""
            ]
          },
          "metadata": {}
        },
        {
          "output_type": "display_data",
          "data": {
            "text/html": [
              "<style>\n",
              ".list-inline {list-style: none; margin:0; padding: 0}\n",
              ".list-inline>li {display: inline-block}\n",
              ".list-inline>li:not(:last-child)::after {content: \"\\00b7\"; padding: 0 .5ex}\n",
              "</style>\n",
              "<ol class=list-inline><li>'Male'</li><li>'Female'</li><li>'Male'</li><li>'Female'</li></ol>\n"
            ],
            "text/markdown": "1. 'Male'\n2. 'Female'\n3. 'Male'\n4. 'Female'\n\n\n",
            "text/latex": "\\begin{enumerate*}\n\\item 'Male'\n\\item 'Female'\n\\item 'Male'\n\\item 'Female'\n\\end{enumerate*}\n",
            "text/plain": [
              "[1] \"Male\"   \"Female\" \"Male\"   \"Female\""
            ]
          },
          "metadata": {}
        },
        {
          "output_type": "display_data",
          "data": {
            "text/html": [
              "<style>\n",
              ".list-inline {list-style: none; margin:0; padding: 0}\n",
              ".list-inline>li {display: inline-block}\n",
              ".list-inline>li:not(:last-child)::after {content: \"\\00b7\"; padding: 0 .5ex}\n",
              "</style>\n",
              "<ol class=list-inline><li>50000</li><li>60000</li><li>70000</li><li>80000</li></ol>\n"
            ],
            "text/markdown": "1. 50000\n2. 60000\n3. 70000\n4. 80000\n\n\n",
            "text/latex": "\\begin{enumerate*}\n\\item 50000\n\\item 60000\n\\item 70000\n\\item 80000\n\\end{enumerate*}\n",
            "text/plain": [
              "[1] 50000 60000 70000 80000"
            ]
          },
          "metadata": {}
        }
      ],
      "source": [
        "# Accessing individual columns\n",
        "data$ages\n",
        "data$names\n",
        "data$gender\n",
        "data$salary"
      ]
    },
    {
      "cell_type": "markdown",
      "metadata": {
        "id": "FaJ8920ToBVq"
      },
      "source": [
        "## Subsetting Data Frames"
      ]
    },
    {
      "cell_type": "code",
      "execution_count": 12,
      "metadata": {
        "colab": {
          "base_uri": "https://localhost:8080/",
          "height": 471
        },
        "id": "IQL4z2zsoBVq",
        "outputId": "760939ea-3954-4d93-caa1-4bd5aa34a49f"
      },
      "outputs": [
        {
          "output_type": "display_data",
          "data": {
            "text/html": [
              "<table class=\"dataframe\">\n",
              "<caption>A data.frame: 1 × 4</caption>\n",
              "<thead>\n",
              "\t<tr><th></th><th scope=col>ages</th><th scope=col>names</th><th scope=col>gender</th><th scope=col>salary</th></tr>\n",
              "\t<tr><th></th><th scope=col>&lt;dbl&gt;</th><th scope=col>&lt;chr&gt;</th><th scope=col>&lt;chr&gt;</th><th scope=col>&lt;dbl&gt;</th></tr>\n",
              "</thead>\n",
              "<tbody>\n",
              "\t<tr><th scope=row>3</th><td>35</td><td>David</td><td>Male</td><td>70000</td></tr>\n",
              "</tbody>\n",
              "</table>\n"
            ],
            "text/markdown": "\nA data.frame: 1 × 4\n\n| <!--/--> | ages &lt;dbl&gt; | names &lt;chr&gt; | gender &lt;chr&gt; | salary &lt;dbl&gt; |\n|---|---|---|---|---|\n| 3 | 35 | David | Male | 70000 |\n\n",
            "text/latex": "A data.frame: 1 × 4\n\\begin{tabular}{r|llll}\n  & ages & names & gender & salary\\\\\n  & <dbl> & <chr> & <chr> & <dbl>\\\\\n\\hline\n\t3 & 35 & David & Male & 70000\\\\\n\\end{tabular}\n",
            "text/plain": [
              "  ages names gender salary\n",
              "3 35   David Male   70000 "
            ]
          },
          "metadata": {}
        },
        {
          "output_type": "display_data",
          "data": {
            "text/html": [
              "<table class=\"dataframe\">\n",
              "<caption>A data.frame: 2 × 4</caption>\n",
              "<thead>\n",
              "\t<tr><th></th><th scope=col>ages</th><th scope=col>names</th><th scope=col>gender</th><th scope=col>salary</th></tr>\n",
              "\t<tr><th></th><th scope=col>&lt;dbl&gt;</th><th scope=col>&lt;chr&gt;</th><th scope=col>&lt;chr&gt;</th><th scope=col>&lt;dbl&gt;</th></tr>\n",
              "</thead>\n",
              "<tbody>\n",
              "\t<tr><th scope=row>1</th><td>25</td><td>John </td><td>Male</td><td>50000</td></tr>\n",
              "\t<tr><th scope=row>3</th><td>35</td><td>David</td><td>Male</td><td>70000</td></tr>\n",
              "</tbody>\n",
              "</table>\n"
            ],
            "text/markdown": "\nA data.frame: 2 × 4\n\n| <!--/--> | ages &lt;dbl&gt; | names &lt;chr&gt; | gender &lt;chr&gt; | salary &lt;dbl&gt; |\n|---|---|---|---|---|\n| 1 | 25 | John  | Male | 50000 |\n| 3 | 35 | David | Male | 70000 |\n\n",
            "text/latex": "A data.frame: 2 × 4\n\\begin{tabular}{r|llll}\n  & ages & names & gender & salary\\\\\n  & <dbl> & <chr> & <chr> & <dbl>\\\\\n\\hline\n\t1 & 25 & John  & Male & 50000\\\\\n\t3 & 35 & David & Male & 70000\\\\\n\\end{tabular}\n",
            "text/plain": [
              "  ages names gender salary\n",
              "1 25   John  Male   50000 \n",
              "3 35   David Male   70000 "
            ]
          },
          "metadata": {}
        },
        {
          "output_type": "display_data",
          "data": {
            "text/html": [
              "<table class=\"dataframe\">\n",
              "<caption>A data.frame: 2 × 4</caption>\n",
              "<thead>\n",
              "\t<tr><th></th><th scope=col>ages</th><th scope=col>names</th><th scope=col>gender</th><th scope=col>salary</th></tr>\n",
              "\t<tr><th></th><th scope=col>&lt;dbl&gt;</th><th scope=col>&lt;chr&gt;</th><th scope=col>&lt;chr&gt;</th><th scope=col>&lt;dbl&gt;</th></tr>\n",
              "</thead>\n",
              "<tbody>\n",
              "\t<tr><th scope=row>3</th><td>35</td><td>David</td><td>Male  </td><td>70000</td></tr>\n",
              "\t<tr><th scope=row>4</th><td>40</td><td>Emily</td><td>Female</td><td>80000</td></tr>\n",
              "</tbody>\n",
              "</table>\n"
            ],
            "text/markdown": "\nA data.frame: 2 × 4\n\n| <!--/--> | ages &lt;dbl&gt; | names &lt;chr&gt; | gender &lt;chr&gt; | salary &lt;dbl&gt; |\n|---|---|---|---|---|\n| 3 | 35 | David | Male   | 70000 |\n| 4 | 40 | Emily | Female | 80000 |\n\n",
            "text/latex": "A data.frame: 2 × 4\n\\begin{tabular}{r|llll}\n  & ages & names & gender & salary\\\\\n  & <dbl> & <chr> & <chr> & <dbl>\\\\\n\\hline\n\t3 & 35 & David & Male   & 70000\\\\\n\t4 & 40 & Emily & Female & 80000\\\\\n\\end{tabular}\n",
            "text/plain": [
              "  ages names gender salary\n",
              "3 35   David Male   70000 \n",
              "4 40   Emily Female 80000 "
            ]
          },
          "metadata": {}
        },
        {
          "output_type": "stream",
          "name": "stdout",
          "text": [
            "  names salary\n",
            "1  John  50000\n",
            "3 David  70000\n"
          ]
        }
      ],
      "source": [
        "# Subsetting row 3, all columns\n",
        "data[3,]\n",
        "\n",
        "# Subsetting rows 1 and 3, all columns\n",
        "data[c(1, 3), ]\n",
        "\n",
        "# Subsetting rows where Salary is greater than 60000\n",
        "data[data$salary > 60000, ]\n",
        "\n",
        "# Subsetting rows where Gender is Male, selecting Name and Salary\n",
        "subset3 <- data[data$gender == \"Male\", c(\"names\", \"salary\")]\n",
        "print(subset3)"
      ]
    }
  ],
  "metadata": {
    "colab": {
      "provenance": [],
      "include_colab_link": true
    },
    "kernelspec": {
      "display_name": "R",
      "language": "R",
      "name": "ir"
    },
    "language_info": {
      "name": "R"
    }
  },
  "nbformat": 4,
  "nbformat_minor": 0
}